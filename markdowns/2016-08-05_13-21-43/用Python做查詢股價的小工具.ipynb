{
 "cells": [
  {
   "cell_type": "markdown",
   "metadata": {},
   "source": [
    "### 最近接到任務，必須好好練習一下Python，又剛好想要查農林（2913）的歷史紀錄，所以順手做了一個可以快速查詢的小工具。預想的情境如下：\n",
    "\n",
    "#### 1. 利用terminal查詢。\n",
    "#### 2. 可以跑出互動式K線圖。\n",
    "#### 3. 要有月線\n",
    "\n",
    "## 開工！\n",
    "\n",
    "## Import Modules"
   ]
  },
  {
   "cell_type": "code",
   "execution_count": 1,
   "metadata": {
    "collapsed": true
   },
   "outputs": [],
   "source": [
    "# -*- coding: utf-8 -*-\n",
    "import sys\n",
    "from plotly.tools import FigureFactory as FF\n",
    "import plotly\n",
    "from pandas_datareader import data\n",
    "from datetime import datetime\n",
    "from plotly.graph_objs import Scatter, Layout, Line\n",
    "import numpy as np"
   ]
  },
  {
   "cell_type": "markdown",
   "metadata": {},
   "source": [
    "### 1. 要注意第一行，特別註明encoding，否則只要出現中文，就會報錯。\n",
    "### 2. `sys`是用來讓我可以直接在terminal把參數放進去。\n",
    "### 3. 過去用`pandas.io.data`來抓資料，不過這Module將被移除了，改為pandas_datareader，只是用法些微不同。"
   ]
  },
  {
   "cell_type": "markdown",
   "metadata": {},
   "source": [
    "## 查詢＋畫圖"
   ]
  },
  {
   "cell_type": "code",
   "execution_count": 2,
   "metadata": {
    "collapsed": true
   },
   "outputs": [],
   "source": [
    "# 算均線\n",
    "def moving_average(a, n=3) :\n",
    "    ret = np.cumsum(a, dtype=float)\n",
    "    ret[n:] = ret[n:] - ret[:-n]\n",
    "    return ret[n - 1:] / n\n",
    "\n",
    "# Query and Draw\n",
    "def query_stock(stock, start='2011.01.01', end='today'):\n",
    "    stock+=\".TW\"\n",
    "    # datetime的用法超好用，這裡將字串轉成時間格式\n",
    "    st = datetime.date(datetime.strptime(start, '%Y.%m.%d'))\n",
    "\n",
    "    if end == 'today':\n",
    "        en = datetime.date(datetime.today())\n",
    "    else:\n",
    "        en = datetime.date(datetime.strptime(end, '%Y.%m.%d'))\n",
    "    # 新的抓股價的function直接幫Yahoo! Finance寫一個function\n",
    "    df = data.get_data_yahoo(stock, st, en)\n",
    "    fig = FF.create_candlestick(df.Open, df.High, df.Low, df.Close, dates=df.index)\n",
    "    SMA20=moving_average(df.Close.values, 20)\n",
    "    add_line = Scatter(\n",
    "        x=df.index[-len(SMA20):],\n",
    "        y=SMA20,\n",
    "        name= '20SMA',\n",
    "        line=Line(color='rgb(200, 200, 250)')\n",
    "        )\n",
    "    fig['data'].extend([add_line])\n",
    "    plotly.offline.plot(fig, validate=False)"
   ]
  },
  {
   "cell_type": "markdown",
   "metadata": {},
   "source": [
    "## 從terminal抓參數\n",
    "###這邊利用`sys.argv`將參數放入function，`sys.argv`是一個List會抓取terminal上放在python後面的參數，List裡的第一個元素會是所執行的.py檔，後面通常會放參數。"
   ]
  },
  {
   "cell_type": "code",
   "execution_count": 4,
   "metadata": {
    "collapsed": true
   },
   "outputs": [],
   "source": [
    "if len(sys.argv) < 2:\n",
    "    print 'no argument'\n",
    "    sys.exit()\n",
    "elif len(sys.argv) == 2:\n",
    "    query_stock(sys.argv[1])\n",
    "elif len(sys.argv) == 3:\n",
    "    query_stock(sys.argv[1],sys.argv[2])\n",
    "elif len(sys.argv) == 4:\n",
    "    query_stock(sys.argv[1],sys.argv[2],sys.argv[3])"
   ]
  },
  {
   "cell_type": "markdown",
   "metadata": {},
   "source": [
    "## 在terminal執行"
   ]
  },
  {
   "cell_type": "code",
   "execution_count": null,
   "metadata": {
    "collapsed": true
   },
   "outputs": [],
   "source": [
    "python query_stock.py 1215 2015.01.01 2015.06.30"
   ]
  },
  {
   "cell_type": "markdown",
   "metadata": {},
   "source": [
    "### 補充\n",
    "#### 原本是想要固定每次都抓過去五年的紀錄，可以利用`timedelta`來執行，今天扣掉五年的天數，即為開始的日期，用法：`datetime.date(datetime.today())-timedelta(days=365*5)`，但後來認為應該還是要保留一些彈性，所以作罷。"
   ]
  }
 ],
 "metadata": {
  "kernelspec": {
   "display_name": "Python 2",
   "language": "python",
   "name": "python2"
  },
  "language_info": {
   "codemirror_mode": {
    "name": "ipython",
    "version": 2
   },
   "file_extension": ".py",
   "mimetype": "text/x-python",
   "name": "python",
   "nbconvert_exporter": "python",
   "pygments_lexer": "ipython2",
   "version": "2.7.10"
  }
 },
 "nbformat": 4,
 "nbformat_minor": 0
}
