{
 "cells": [
  {
   "cell_type": "markdown",
   "metadata": {},
   "source": [
    "### 之前寫過[以Rmarkdown發Blog](https://kuiming.github.io/BenBlog/article/%E4%BB%A5Rmarkdown%E7%99%BCblog.html)，這次是改用Python了。直接用jupyter寫markdown和python還蠻簡單的，可以直接輸出成html，也沒有之前用Rmarkdown發Blog的問題，真是太～開～心～了～\n",
    "### 直接貼code："
   ]
  },
  {
   "cell_type": "code",
   "execution_count": 1,
   "metadata": {
    "collapsed": true
   },
   "outputs": [],
   "source": [
    "from datetime import datetime\n",
    "import sys\n",
    "import os"
   ]
  },
  {
   "cell_type": "markdown",
   "metadata": {},
   "source": [
    "### `datetime`和`sys`不用多說了，一個是為了時間，一個是為了讓我可以直接從terminal拿到參數。第三個`os`則是為了讓我可以直接把osx command用python發出去，會需要用到`os.system`，十分直觀。\n",
    "### 剩下的幾乎就跟用Ｒ一樣了，產生一個以當下時間命名的資料夾，然後把要發文的內容全部丟到該資料夾，就結束了。"
   ]
  },
  {
   "cell_type": "code",
   "execution_count": 2,
   "metadata": {
    "collapsed": true
   },
   "outputs": [],
   "source": [
    "def mv_for_blog(files):\n",
    "    today=datetime.today()\n",
    "    repo=today.strftime(\"%Y-%m-%d_%H-%M-%S\")\n",
    "    command = 'mkdir '+repo\n",
    "    os.system(command)\n",
    "    command = 'mv '+files+'* '+repo\n",
    "    os.system(command)\n",
    "\n",
    "if len(sys.argv) < 2:\n",
    "    print 'no argument'\n",
    "    sys.exit()\n",
    "else:\n",
    "    mv_for_blog(sys.argv[1])"
   ]
  },
  {
   "cell_type": "markdown",
   "metadata": {},
   "source": [
    "### 接下來就是直接在terminal執行，以下是範例：\n",
    "    python mv_for_blog.py 用Python做查詢股價的小工具"
   ]
  },
  {
   "cell_type": "markdown",
   "metadata": {},
   "source": [
    "### [code in github](https://github.com/KuiMing/python_note/blob/master/mv_for_blog.py)"
   ]
  }
 ],
 "metadata": {
  "kernelspec": {
   "display_name": "Python 2",
   "language": "python",
   "name": "python2"
  },
  "language_info": {
   "codemirror_mode": {
    "name": "ipython",
    "version": 2
   },
   "file_extension": ".py",
   "mimetype": "text/x-python",
   "name": "python",
   "nbconvert_exporter": "python",
   "pygments_lexer": "ipython2",
   "version": "2.7.10"
  }
 },
 "nbformat": 4,
 "nbformat_minor": 0
}
