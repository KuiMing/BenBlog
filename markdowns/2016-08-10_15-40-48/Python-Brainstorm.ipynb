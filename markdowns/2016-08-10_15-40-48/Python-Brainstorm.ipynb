{
 "cells": [
  {
   "cell_type": "markdown",
   "metadata": {},
   "source": [
    "## decimal zip"
   ]
  },
  {
   "cell_type": "code",
   "execution_count": 122,
   "metadata": {
    "collapsed": true
   },
   "outputs": [],
   "source": [
    "## decimal zip\n",
    "def solution(A, B):\n",
    "        \n",
    "    a = str(A)\n",
    "    b = str(B)\n",
    "    output = \"\"\n",
    "    if len(a)<=len(b):\n",
    "        length=len(a)\n",
    "        rest=b[length:]\n",
    "    else:\n",
    "        length=len(b)\n",
    "        rest=a[length:]\n",
    "        \n",
    "    for i in range(0,length):\n",
    "        if (a[i]):\n",
    "            output = output + a[i];\n",
    "        if (b[i]):\n",
    "            output = output + b[i];\n",
    "    output+=rest\n",
    "    output=int(output)\n",
    "    return output"
   ]
  },
  {
   "cell_type": "markdown",
   "metadata": {},
   "source": [
    "### Test"
   ]
  },
  {
   "cell_type": "code",
   "execution_count": 123,
   "metadata": {
    "collapsed": false
   },
   "outputs": [
    {
     "data": {
      "text/plain": [
       "142536"
      ]
     },
     "execution_count": 123,
     "metadata": {},
     "output_type": "execute_result"
    }
   ],
   "source": [
    "solution(123,456)"
   ]
  },
  {
   "cell_type": "code",
   "execution_count": 120,
   "metadata": {
    "collapsed": false
   },
   "outputs": [
    {
     "data": {
      "text/plain": [
       "172938263381311"
      ]
     },
     "execution_count": 120,
     "metadata": {},
     "output_type": "execute_result"
    }
   ],
   "source": [
    "solution(12323,7986381311)"
   ]
  },
  {
   "cell_type": "code",
   "execution_count": 121,
   "metadata": {
    "collapsed": false
   },
   "outputs": [
    {
     "data": {
      "text/plain": [
       "18263593078766"
      ]
     },
     "execution_count": 121,
     "metadata": {},
     "output_type": "execute_result"
    }
   ],
   "source": [
    "solution(123908766,86537)"
   ]
  },
  {
   "cell_type": "markdown",
   "metadata": {},
   "source": [
    "## maximum time"
   ]
  },
  {
   "cell_type": "code",
   "execution_count": 125,
   "metadata": {
    "collapsed": true
   },
   "outputs": [],
   "source": [
    "## maximum time\n",
    "import itertools\n",
    "from datetime import datetime\n",
    "def solution(a, b, c, d):\n",
    "    for t in itertools.permutations([a, b, c, d]):\n",
    "        clock = ''.join(map(str, t))\n",
    "        try:\n",
    "            new_time = datetime.strptime(clock,'%H%M')\n",
    "\n",
    "            if 'max_time' not in locals():\n",
    "                max_time = new_time\n",
    "                maxclock=clock\n",
    "            elif new_time > max_time:\n",
    "                max_time = new_time\n",
    "                maxclock=clock\n",
    "        except ValueError:\n",
    "            pass\n",
    "\n",
    "    if 'max_time' not in locals():\n",
    "        return \"NOT POSSIBLE\"\n",
    "    else:\n",
    "        return maxclock[0:2] + \":\" + maxclock[2:4]"
   ]
  },
  {
   "cell_type": "markdown",
   "metadata": {},
   "source": [
    "### Test"
   ]
  },
  {
   "cell_type": "code",
   "execution_count": 126,
   "metadata": {
    "collapsed": false
   },
   "outputs": [
    {
     "data": {
      "text/plain": [
       "'19:27'"
      ]
     },
     "execution_count": 126,
     "metadata": {},
     "output_type": "execute_result"
    }
   ],
   "source": [
    "solution(1,7,9,2)"
   ]
  },
  {
   "cell_type": "code",
   "execution_count": 127,
   "metadata": {
    "collapsed": false
   },
   "outputs": [
    {
     "data": {
      "text/plain": [
       "'20:40'"
      ]
     },
     "execution_count": 127,
     "metadata": {},
     "output_type": "execute_result"
    }
   ],
   "source": [
    "solution(2,4,0,0)"
   ]
  },
  {
   "cell_type": "code",
   "execution_count": 128,
   "metadata": {
    "collapsed": false
   },
   "outputs": [
    {
     "data": {
      "text/plain": [
       "'NOT POSSIBLE'"
      ]
     },
     "execution_count": 128,
     "metadata": {},
     "output_type": "execute_result"
    }
   ],
   "source": [
    "solution(1,9,9,7)"
   ]
  },
  {
   "cell_type": "code",
   "execution_count": 129,
   "metadata": {
    "collapsed": false
   },
   "outputs": [
    {
     "data": {
      "text/plain": [
       "'07:30'"
      ]
     },
     "execution_count": 129,
     "metadata": {},
     "output_type": "execute_result"
    }
   ],
   "source": [
    "solution(3,0,7,0)"
   ]
  },
  {
   "cell_type": "markdown",
   "metadata": {},
   "source": [
    "## Ticket"
   ]
  },
  {
   "cell_type": "code",
   "execution_count": 130,
   "metadata": {
    "collapsed": false
   },
   "outputs": [],
   "source": [
    "## Ticket\n",
    "def solution(A):\n",
    "    A=sorted(A)\n",
    "    single=0\n",
    "    seven=0\n",
    "    i=0\n",
    "    while i<len(A):\n",
    "        index=A[i]+6\n",
    "        days=len(filter(lambda x: x>=A[i] and x<=index, A))\n",
    "        if days>3:\n",
    "            seven+=1\n",
    "        elif days>0:\n",
    "            single+=days\n",
    "        else:\n",
    "            single+=1\n",
    "        try:\n",
    "            i = A.index(filter(lambda x: x>index, A)[0])\n",
    "        except:\n",
    "            break\n",
    "    payment = (single * 2) + (seven * 7)\n",
    "    if (payment > 25):\n",
    "        payment = 25\n",
    "    return payment"
   ]
  },
  {
   "cell_type": "markdown",
   "metadata": {},
   "source": [
    "### Test"
   ]
  },
  {
   "cell_type": "code",
   "execution_count": 134,
   "metadata": {
    "collapsed": false
   },
   "outputs": [
    {
     "name": "stdout",
     "output_type": "stream",
     "text": [
      "[ 2 22]\n"
     ]
    },
    {
     "data": {
      "text/plain": [
       "4"
      ]
     },
     "execution_count": 134,
     "metadata": {},
     "output_type": "execute_result"
    }
   ],
   "source": [
    "import numpy as np\n",
    "A=np.unique(np.random.randint(1,30,2))\n",
    "print A\n",
    "solution(A)"
   ]
  },
  {
   "cell_type": "code",
   "execution_count": 135,
   "metadata": {
    "collapsed": false
   },
   "outputs": [
    {
     "name": "stdout",
     "output_type": "stream",
     "text": [
      "[ 5 12 17 19 20 23 24 26 27]\n"
     ]
    },
    {
     "data": {
      "text/plain": [
       "17"
      ]
     },
     "execution_count": 135,
     "metadata": {},
     "output_type": "execute_result"
    }
   ],
   "source": [
    "A=np.unique(np.random.randint(1,30,12))\n",
    "print A\n",
    "solution(A)"
   ]
  },
  {
   "cell_type": "code",
   "execution_count": 137,
   "metadata": {
    "collapsed": false
   },
   "outputs": [
    {
     "name": "stdout",
     "output_type": "stream",
     "text": [
      "[ 3  4  5  7  9 10 11 12 13 17 18 23 24 25 26 28 29]\n"
     ]
    },
    {
     "data": {
      "text/plain": [
       "25"
      ]
     },
     "execution_count": 137,
     "metadata": {},
     "output_type": "execute_result"
    }
   ],
   "source": [
    "A=np.unique(np.random.randint(1,30,22))\n",
    "print A\n",
    "solution(A)"
   ]
  },
  {
   "cell_type": "code",
   "execution_count": 138,
   "metadata": {
    "collapsed": false
   },
   "outputs": [
    {
     "name": "stdout",
     "output_type": "stream",
     "text": [
      "[ 2  5  8 11 12 14 15 16 17 18 19 22 23 28]\n"
     ]
    },
    {
     "data": {
      "text/plain": [
       "22"
      ]
     },
     "execution_count": 138,
     "metadata": {},
     "output_type": "execute_result"
    }
   ],
   "source": [
    "A=np.unique(np.random.randint(1,30,15))\n",
    "print A\n",
    "solution(A)"
   ]
  }
 ],
 "metadata": {
  "kernelspec": {
   "display_name": "Python 2",
   "language": "python",
   "name": "python2"
  },
  "language_info": {
   "codemirror_mode": {
    "name": "ipython",
    "version": 2
   },
   "file_extension": ".py",
   "mimetype": "text/x-python",
   "name": "python",
   "nbconvert_exporter": "python",
   "pygments_lexer": "ipython2",
   "version": "2.7.10"
  }
 },
 "nbformat": 4,
 "nbformat_minor": 0
}
