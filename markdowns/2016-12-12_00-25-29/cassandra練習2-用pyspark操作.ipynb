{
 "cells": [
  {
   "cell_type": "markdown",
   "metadata": {},
   "source": [
    "# Operate Cassandra with pyspark \n",
    "## Connect to Cassandra\n",
    "\n",
    "### 下面的bash script是目前確定在Mac上可以執行，讓pyspark在jupyter notebook上運作，並且連到Cassandra。\n",
    "```\n",
    "PYSPARK_DRIVER_PYTHON=jupyter PYSPARK_DRIVER_PYTHON_OPTS=\"notebook\" ./bin/pyspark --packages com.datastax.spark:spark-cassandra-connector_2.11:2.0.0-M3 --conf spark.cassandra.connection.host=127.0.0.1\n",
    "```\n",
    "\n",
    "### 在此之前，試過以下套件：\n",
    "\n",
    "#### - `cassandra.cluster`：可以分別在python (on jupyter)和pyspark上執行，但暫時無法直接在載入pyspark的jupyter notebook執行。\n",
    "#### - `pyspark_cassandra`：可以類似`spark-cassandra-connecto`載入，套件的部分改成`--packages TargetHolding:pyspark-cassandra:0.3.5`，但是載入後無法連結Cassandra。\n",
    "\n",
    "## Load Table From Keyspace"
   ]
  },
  {
   "cell_type": "code",
   "execution_count": 2,
   "metadata": {
    "collapsed": false
   },
   "outputs": [],
   "source": [
    "x=sqlContext.read\\\n",
    "    .format(\"org.apache.spark.sql.cassandra\")\\\n",
    "    .options(table=\"tips\", keyspace=\"ben\")\\\n",
    "    .load()"
   ]
  },
  {
   "cell_type": "markdown",
   "metadata": {},
   "source": [
    "### 觀察資料格式"
   ]
  },
  {
   "cell_type": "code",
   "execution_count": 4,
   "metadata": {
    "collapsed": false
   },
   "outputs": [
    {
     "data": {
      "text/plain": [
       "pyspark.sql.dataframe.DataFrame"
      ]
     },
     "execution_count": 4,
     "metadata": {},
     "output_type": "execute_result"
    }
   ],
   "source": [
    "type(x)"
   ]
  },
  {
   "cell_type": "code",
   "execution_count": 3,
   "metadata": {
    "collapsed": false
   },
   "outputs": [
    {
     "name": "stdout",
     "output_type": "stream",
     "text": [
      "+---+-----+----+------+------+----+------+----------+\n",
      "|ind|  day| sex|  size|smoker|time|   tip|total_bill|\n",
      "+---+-----+----+------+------+----+------+----------+\n",
      "|  5|24.59|3.61|Female|    No| Sun|Dinner|         4|\n",
      "|100|12.46| 1.5|  Male|    No| Fri|Dinner|         2|\n",
      "|121|11.69|2.31|  Male|    No|Thur| Lunch|         2|\n",
      "| 57|38.01| 3.0|  Male|   Yes| Sat|Dinner|         4|\n",
      "|134|12.26| 2.0|Female|    No|Thur| Lunch|         2|\n",
      "|165|17.51| 3.0|Female|   Yes| Sun|Dinner|         2|\n",
      "|108|25.21|4.29|  Male|   Yes| Sat|Dinner|         2|\n",
      "|208|38.73| 3.0|  Male|   Yes| Sat|Dinner|         4|\n",
      "| 76|10.51|1.25|  Male|    No| Sat|Dinner|         2|\n",
      "|127| 8.52|1.48|  Male|    No|Thur| Lunch|         2|\n",
      "|209|24.27|2.03|  Male|   Yes| Sat|Dinner|         2|\n",
      "|107|20.49|4.06|  Male|   Yes| Sat|Dinner|         2|\n",
      "|157|48.17| 5.0|  Male|    No| Sun|Dinner|         6|\n",
      "|132|20.27|2.83|Female|    No|Thur| Lunch|         2|\n",
      "| 36|24.06| 3.6|  Male|    No| Sat|Dinner|         3|\n",
      "| 61|20.29|3.21|  Male|   Yes| Sat|Dinner|         2|\n",
      "|211|30.06| 2.0|  Male|   Yes| Sat|Dinner|         3|\n",
      "|235|15.53| 3.0|  Male|   Yes| Sat|Dinner|         2|\n",
      "|105|20.92|4.08|Female|    No| Sat|Dinner|         2|\n",
      "|140|13.16|2.75|Female|    No|Thur| Lunch|         2|\n",
      "+---+-----+----+------+------+----+------+----------+\n",
      "only showing top 20 rows\n",
      "\n"
     ]
    }
   ],
   "source": [
    "x.show()"
   ]
  },
  {
   "cell_type": "markdown",
   "metadata": {},
   "source": [
    "### 轉換成Pandas Dataframe"
   ]
  },
  {
   "cell_type": "code",
   "execution_count": 5,
   "metadata": {
    "collapsed": false
   },
   "outputs": [
    {
     "data": {
      "text/html": [
       "<div>\n",
       "<table border=\"1\" class=\"dataframe\">\n",
       "  <thead>\n",
       "    <tr style=\"text-align: right;\">\n",
       "      <th></th>\n",
       "      <th>ind</th>\n",
       "      <th>day</th>\n",
       "      <th>sex</th>\n",
       "      <th>size</th>\n",
       "      <th>smoker</th>\n",
       "      <th>time</th>\n",
       "      <th>tip</th>\n",
       "      <th>total_bill</th>\n",
       "    </tr>\n",
       "  </thead>\n",
       "  <tbody>\n",
       "    <tr>\n",
       "      <th>0</th>\n",
       "      <td>5</td>\n",
       "      <td>24.59</td>\n",
       "      <td>3.61</td>\n",
       "      <td>Female</td>\n",
       "      <td>No</td>\n",
       "      <td>Sun</td>\n",
       "      <td>Dinner</td>\n",
       "      <td>4</td>\n",
       "    </tr>\n",
       "    <tr>\n",
       "      <th>1</th>\n",
       "      <td>100</td>\n",
       "      <td>12.46</td>\n",
       "      <td>1.5</td>\n",
       "      <td>Male</td>\n",
       "      <td>No</td>\n",
       "      <td>Fri</td>\n",
       "      <td>Dinner</td>\n",
       "      <td>2</td>\n",
       "    </tr>\n",
       "    <tr>\n",
       "      <th>2</th>\n",
       "      <td>121</td>\n",
       "      <td>11.69</td>\n",
       "      <td>2.31</td>\n",
       "      <td>Male</td>\n",
       "      <td>No</td>\n",
       "      <td>Thur</td>\n",
       "      <td>Lunch</td>\n",
       "      <td>2</td>\n",
       "    </tr>\n",
       "    <tr>\n",
       "      <th>3</th>\n",
       "      <td>57</td>\n",
       "      <td>38.01</td>\n",
       "      <td>3.0</td>\n",
       "      <td>Male</td>\n",
       "      <td>Yes</td>\n",
       "      <td>Sat</td>\n",
       "      <td>Dinner</td>\n",
       "      <td>4</td>\n",
       "    </tr>\n",
       "    <tr>\n",
       "      <th>4</th>\n",
       "      <td>134</td>\n",
       "      <td>12.26</td>\n",
       "      <td>2.0</td>\n",
       "      <td>Female</td>\n",
       "      <td>No</td>\n",
       "      <td>Thur</td>\n",
       "      <td>Lunch</td>\n",
       "      <td>2</td>\n",
       "    </tr>\n",
       "  </tbody>\n",
       "</table>\n",
       "</div>"
      ],
      "text/plain": [
       "   ind    day   sex    size smoker  time     tip total_bill\n",
       "0    5  24.59  3.61  Female     No   Sun  Dinner          4\n",
       "1  100  12.46   1.5    Male     No   Fri  Dinner          2\n",
       "2  121  11.69  2.31    Male     No  Thur   Lunch          2\n",
       "3   57  38.01   3.0    Male    Yes   Sat  Dinner          4\n",
       "4  134  12.26   2.0  Female     No  Thur   Lunch          2"
      ]
     },
     "execution_count": 5,
     "metadata": {},
     "output_type": "execute_result"
    }
   ],
   "source": [
    "x.toPandas().head()"
   ]
  },
  {
   "cell_type": "markdown",
   "metadata": {},
   "source": [
    "## 各種簡單操作"
   ]
  },
  {
   "cell_type": "markdown",
   "metadata": {},
   "source": [
    "### 隨機挑選"
   ]
  },
  {
   "cell_type": "code",
   "execution_count": 19,
   "metadata": {
    "collapsed": false,
    "scrolled": false
   },
   "outputs": [
    {
     "data": {
      "text/plain": [
       "[Row(ind=u'165', day=u'17.51', sex=u'3.0', size=u'Female', smoker=u'Yes', time=u'Sun', tip=u'Dinner', total_bill=u'2'),\n",
       " Row(ind=u'108', day=u'25.21', sex=u'4.29', size=u'Male', smoker=u'Yes', time=u'Sat', tip=u'Dinner', total_bill=u'2'),\n",
       " Row(ind=u'107', day=u'20.49', sex=u'4.06', size=u'Male', smoker=u'Yes', time=u'Sat', tip=u'Dinner', total_bill=u'2'),\n",
       " Row(ind=u'211', day=u'30.06', sex=u'2.0', size=u'Male', smoker=u'Yes', time=u'Sat', tip=u'Dinner', total_bill=u'3'),\n",
       " Row(ind=u'193', day=u'28.44', sex=u'2.56', size=u'Male', smoker=u'Yes', time=u'Thur', tip=u'Lunch', total_bill=u'2'),\n",
       " Row(ind=u'33', day=u'15.06', sex=u'3.0', size=u'Female', smoker=u'No', time=u'Sat', tip=u'Dinner', total_bill=u'2'),\n",
       " Row(ind=u'114', day=u'23.95', sex=u'2.55', size=u'Male', smoker=u'No', time=u'Sun', tip=u'Dinner', total_bill=u'2'),\n",
       " Row(ind=u'106', day=u'15.36', sex=u'1.64', size=u'Male', smoker=u'Yes', time=u'Sat', tip=u'Dinner', total_bill=u'2'),\n",
       " Row(ind=u'99', day=u'21.01', sex=u'3.0', size=u'Male', smoker=u'Yes', time=u'Fri', tip=u'Dinner', total_bill=u'2'),\n",
       " Row(ind=u'184', day=u'23.17', sex=u'6.5', size=u'Male', smoker=u'Yes', time=u'Sun', tip=u'Dinner', total_bill=u'4'),\n",
       " Row(ind=u'204', day=u'16.4', sex=u'2.5', size=u'Female', smoker=u'Yes', time=u'Thur', tip=u'Lunch', total_bill=u'2'),\n",
       " Row(ind=u'48', day=u'32.4', sex=u'6.0', size=u'Male', smoker=u'No', time=u'Sun', tip=u'Dinner', total_bill=u'4'),\n",
       " Row(ind=u'163', day=u'16.21', sex=u'2.0', size=u'Female', smoker=u'No', time=u'Sun', tip=u'Dinner', total_bill=u'3'),\n",
       " Row(ind=u'176', day=u'32.9', sex=u'3.11', size=u'Male', smoker=u'Yes', time=u'Sun', tip=u'Dinner', total_bill=u'2'),\n",
       " Row(ind=u'94', day=u'16.32', sex=u'4.3', size=u'Female', smoker=u'Yes', time=u'Fri', tip=u'Dinner', total_bill=u'2'),\n",
       " Row(ind=u'126', day=u'29.8', sex=u'4.2', size=u'Female', smoker=u'No', time=u'Thur', tip=u'Lunch', total_bill=u'6'),\n",
       " Row(ind=u'241', day=u'27.18', sex=u'2.0', size=u'Female', smoker=u'Yes', time=u'Sat', tip=u'Dinner', total_bill=u'2'),\n",
       " Row(ind=u'86', day=u'34.83', sex=u'5.17', size=u'Female', smoker=u'No', time=u'Thur', tip=u'Lunch', total_bill=u'4'),\n",
       " Row(ind=u'120', day=u'24.08', sex=u'2.92', size=u'Female', smoker=u'No', time=u'Thur', tip=u'Lunch', total_bill=u'4'),\n",
       " Row(ind=u'219', day=u'7.74', sex=u'1.44', size=u'Male', smoker=u'Yes', time=u'Sat', tip=u'Dinner', total_bill=u'2'),\n",
       " Row(ind=u'242', day=u'22.67', sex=u'2.0', size=u'Male', smoker=u'Yes', time=u'Sat', tip=u'Dinner', total_bill=u'2'),\n",
       " Row(ind=u'41', day=u'16.04', sex=u'2.24', size=u'Male', smoker=u'No', time=u'Sat', tip=u'Dinner', total_bill=u'3')]"
      ]
     },
     "execution_count": 19,
     "metadata": {},
     "output_type": "execute_result"
    }
   ],
   "source": [
    "x.sample(False,0.1).collect()"
   ]
  },
  {
   "cell_type": "markdown",
   "metadata": {},
   "source": [
    "### filter（與where一樣）"
   ]
  },
  {
   "cell_type": "code",
   "execution_count": 174,
   "metadata": {
    "collapsed": false,
    "scrolled": true
   },
   "outputs": [
    {
     "data": {
      "text/plain": [
       "[Row(ind=u'127', day=u'8.52', sex=u'1.48', size=u'Male', smoker=u'No', time=u'Thur', tip=u'Lunch', total_bill=u'2'),\n",
       " Row(ind=u'136', day=u'8.51', sex=u'1.25', size=u'Female', smoker=u'No', time=u'Thur', tip=u'Lunch', total_bill=u'2'),\n",
       " Row(ind=u'31', day=u'9.55', sex=u'1.45', size=u'Male', smoker=u'No', time=u'Sat', tip=u'Dinner', total_bill=u'2'),\n",
       " Row(ind=u'179', day=u'9.6', sex=u'4.0', size=u'Female', smoker=u'Yes', time=u'Sun', tip=u'Dinner', total_bill=u'2'),\n",
       " Row(ind=u'146', day=u'8.35', sex=u'1.5', size=u'Female', smoker=u'No', time=u'Thur', tip=u'Lunch', total_bill=u'2'),\n",
       " Row(ind=u'7', day=u'8.77', sex=u'2.0', size=u'Male', smoker=u'No', time=u'Sun', tip=u'Dinner', total_bill=u'2'),\n",
       " Row(ind=u'68', day=u'3.07', sex=u'1.0', size=u'Female', smoker=u'Yes', time=u'Sat', tip=u'Dinner', total_bill=u'1'),\n",
       " Row(ind=u'112', day=u'7.25', sex=u'1.0', size=u'Female', smoker=u'No', time=u'Sat', tip=u'Dinner', total_bill=u'1'),\n",
       " Row(ind=u'150', day=u'7.51', sex=u'2.0', size=u'Male', smoker=u'No', time=u'Thur', tip=u'Lunch', total_bill=u'2'),\n",
       " Row(ind=u'196', day=u'7.56', sex=u'1.44', size=u'Male', smoker=u'No', time=u'Thur', tip=u'Lunch', total_bill=u'2'),\n",
       " Row(ind=u'93', day=u'5.75', sex=u'1.0', size=u'Female', smoker=u'Yes', time=u'Fri', tip=u'Dinner', total_bill=u'2'),\n",
       " Row(ind=u'223', day=u'8.58', sex=u'1.92', size=u'Male', smoker=u'Yes', time=u'Fri', tip=u'Lunch', total_bill=u'1'),\n",
       " Row(ind=u'149', day=u'9.78', sex=u'1.73', size=u'Male', smoker=u'No', time=u'Thur', tip=u'Lunch', total_bill=u'2'),\n",
       " Row(ind=u'44', day=u'9.68', sex=u'1.32', size=u'Male', smoker=u'No', time=u'Sun', tip=u'Dinner', total_bill=u'2'),\n",
       " Row(ind=u'173', day=u'7.25', sex=u'5.15', size=u'Male', smoker=u'Yes', time=u'Sun', tip=u'Dinner', total_bill=u'2'),\n",
       " Row(ind=u'219', day=u'7.74', sex=u'1.44', size=u'Male', smoker=u'Yes', time=u'Sat', tip=u'Dinner', total_bill=u'2'),\n",
       " Row(ind=u'54', day=u'9.94', sex=u'1.56', size=u'Male', smoker=u'No', time=u'Sun', tip=u'Dinner', total_bill=u'2')]"
      ]
     },
     "execution_count": 174,
     "metadata": {},
     "output_type": "execute_result"
    }
   ],
   "source": [
    "x.filter(\"day < 10\").collect()"
   ]
  },
  {
   "cell_type": "markdown",
   "metadata": {},
   "source": [
    "### 轉成RDD格式"
   ]
  },
  {
   "cell_type": "code",
   "execution_count": 13,
   "metadata": {
    "collapsed": false
   },
   "outputs": [
    {
     "data": {
      "text/plain": [
       "pyspark.rdd.RDD"
      ]
     },
     "execution_count": 13,
     "metadata": {},
     "output_type": "execute_result"
    }
   ],
   "source": [
    "df_x=x.toPandas()\n",
    "rdd_x=sc.parallelize(df_x)\n",
    "type(rdd_x)"
   ]
  },
  {
   "cell_type": "markdown",
   "metadata": {},
   "source": [
    "### 計算資料列數"
   ]
  },
  {
   "cell_type": "code",
   "execution_count": 25,
   "metadata": {
    "collapsed": false
   },
   "outputs": [
    {
     "data": {
      "text/plain": [
       "244"
      ]
     },
     "execution_count": 25,
     "metadata": {},
     "output_type": "execute_result"
    }
   ],
   "source": [
    "x.count()"
   ]
  },
  {
   "cell_type": "markdown",
   "metadata": {},
   "source": [
    "### 改變data type：`withColumn`改變整欄，`cast`則是改變data type。"
   ]
  },
  {
   "cell_type": "code",
   "execution_count": 73,
   "metadata": {
    "collapsed": false
   },
   "outputs": [],
   "source": [
    "y=x.withColumn(\"total_bill\", x[\"total_bill\"].cast('float'))"
   ]
  },
  {
   "cell_type": "code",
   "execution_count": 74,
   "metadata": {
    "collapsed": false
   },
   "outputs": [],
   "source": [
    "y=y.withColumn(\"day\",y[\"day\"].cast('float'))"
   ]
  },
  {
   "cell_type": "code",
   "execution_count": 75,
   "metadata": {
    "collapsed": false,
    "scrolled": true
   },
   "outputs": [
    {
     "data": {
      "text/plain": [
       "[('ind', 'string'),\n",
       " ('day', 'float'),\n",
       " ('sex', 'string'),\n",
       " ('size', 'string'),\n",
       " ('smoker', 'string'),\n",
       " ('time', 'string'),\n",
       " ('tip', 'string'),\n",
       " ('total_bill', 'float')]"
      ]
     },
     "execution_count": 75,
     "metadata": {},
     "output_type": "execute_result"
    }
   ],
   "source": [
    "y.dtypes"
   ]
  },
  {
   "cell_type": "markdown",
   "metadata": {},
   "source": [
    "### covariance和correlation"
   ]
  },
  {
   "cell_type": "code",
   "execution_count": 92,
   "metadata": {
    "collapsed": false
   },
   "outputs": [
    {
     "data": {
      "text/plain": [
       "5.0659833456359635"
      ]
     },
     "execution_count": 92,
     "metadata": {},
     "output_type": "execute_result"
    }
   ],
   "source": [
    "y.cov('total_bill','day')"
   ]
  },
  {
   "cell_type": "code",
   "execution_count": 76,
   "metadata": {
    "collapsed": false
   },
   "outputs": [
    {
     "data": {
      "text/plain": [
       "0.598315121611821"
      ]
     },
     "execution_count": 76,
     "metadata": {},
     "output_type": "execute_result"
    }
   ],
   "source": [
    "y.corr('total_bill','day')"
   ]
  },
  {
   "cell_type": "markdown",
   "metadata": {},
   "source": [
    "### groupby"
   ]
  },
  {
   "cell_type": "code",
   "execution_count": 91,
   "metadata": {
    "collapsed": false,
    "scrolled": true
   },
   "outputs": [
    {
     "data": {
      "text/plain": [
       "[Row(total_bill=5.0, avg(day)=30.067999649047852, avg(total_bill)=5.0),\n",
       " Row(total_bill=2.0, avg(day)=16.448012899129818, avg(total_bill)=2.0),\n",
       " Row(total_bill=3.0, avg(day)=23.27763148357994, avg(total_bill)=3.0),\n",
       " Row(total_bill=6.0, avg(day)=34.82999897003174, avg(total_bill)=6.0),\n",
       " Row(total_bill=1.0, avg(day)=7.242499887943268, avg(total_bill)=1.0),\n",
       " Row(total_bill=4.0, avg(day)=28.61351358568346, avg(total_bill)=4.0)]"
      ]
     },
     "execution_count": 91,
     "metadata": {},
     "output_type": "execute_result"
    }
   ],
   "source": [
    "y.groupBy('total_bill').avg().collect()"
   ]
  },
  {
   "cell_type": "code",
   "execution_count": 80,
   "metadata": {
    "collapsed": false
   },
   "outputs": [
    {
     "name": "stdout",
     "output_type": "stream",
     "text": [
      "+---+-----+----+------+------+----+------+----------+\n",
      "|ind|  day| sex|  size|smoker|time|   tip|total_bill|\n",
      "+---+-----+----+------+------+----+------+----------+\n",
      "|  5|24.59|3.61|Female|    No| Sun|Dinner|       4.0|\n",
      "|100|12.46| 1.5|  Male|    No| Fri|Dinner|       2.0|\n",
      "|121|11.69|2.31|  Male|    No|Thur| Lunch|       2.0|\n",
      "| 57|38.01| 3.0|  Male|   Yes| Sat|Dinner|       4.0|\n",
      "|134|12.26| 2.0|Female|    No|Thur| Lunch|       2.0|\n",
      "|165|17.51| 3.0|Female|   Yes| Sun|Dinner|       2.0|\n",
      "|108|25.21|4.29|  Male|   Yes| Sat|Dinner|       2.0|\n",
      "|208|38.73| 3.0|  Male|   Yes| Sat|Dinner|       4.0|\n",
      "| 76|10.51|1.25|  Male|    No| Sat|Dinner|       2.0|\n",
      "|127| 8.52|1.48|  Male|    No|Thur| Lunch|       2.0|\n",
      "|209|24.27|2.03|  Male|   Yes| Sat|Dinner|       2.0|\n",
      "|107|20.49|4.06|  Male|   Yes| Sat|Dinner|       2.0|\n",
      "|157|48.17| 5.0|  Male|    No| Sun|Dinner|       6.0|\n",
      "|132|20.27|2.83|Female|    No|Thur| Lunch|       2.0|\n",
      "| 36|24.06| 3.6|  Male|    No| Sat|Dinner|       3.0|\n",
      "| 61|20.29|3.21|  Male|   Yes| Sat|Dinner|       2.0|\n",
      "|211|30.06| 2.0|  Male|   Yes| Sat|Dinner|       3.0|\n",
      "|235|15.53| 3.0|  Male|   Yes| Sat|Dinner|       2.0|\n",
      "|105|20.92|4.08|Female|    No| Sat|Dinner|       2.0|\n",
      "|140|13.16|2.75|Female|    No|Thur| Lunch|       2.0|\n",
      "+---+-----+----+------+------+----+------+----------+\n",
      "only showing top 20 rows\n",
      "\n"
     ]
    }
   ],
   "source": [
    "y.show()"
   ]
  },
  {
   "cell_type": "markdown",
   "metadata": {},
   "source": [
    "### Repartition"
   ]
  },
  {
   "cell_type": "code",
   "execution_count": 184,
   "metadata": {
    "collapsed": false,
    "scrolled": false
   },
   "outputs": [
    {
     "name": "stdout",
     "output_type": "stream",
     "text": [
      "+---+-----+----+------+------+----+------+----------+\n",
      "|ind|  day| sex|  size|smoker|time|   tip|total_bill|\n",
      "+---+-----+----+------+------+----+------+----------+\n",
      "|186|20.69| 5.0|  Male|    No| Sun|Dinner|       5.0|\n",
      "|156|29.85|5.14|Female|    No| Sun|Dinner|       5.0|\n",
      "|217|28.15| 3.0|  Male|   Yes| Sat|Dinner|       5.0|\n",
      "|143|41.19| 5.0|  Male|    No|Thur| Lunch|       5.0|\n",
      "|188|30.46| 2.0|  Male|   Yes| Sun|Dinner|       5.0|\n",
      "|100|12.46| 1.5|  Male|    No| Fri|Dinner|       2.0|\n",
      "|121|11.69|2.31|  Male|    No|Thur| Lunch|       2.0|\n",
      "|134|12.26| 2.0|Female|    No|Thur| Lunch|       2.0|\n",
      "|165|17.51| 3.0|Female|   Yes| Sun|Dinner|       2.0|\n",
      "|108|25.21|4.29|  Male|   Yes| Sat|Dinner|       2.0|\n",
      "| 76|10.51|1.25|  Male|    No| Sat|Dinner|       2.0|\n",
      "|127| 8.52|1.48|  Male|    No|Thur| Lunch|       2.0|\n",
      "|209|24.27|2.03|  Male|   Yes| Sat|Dinner|       2.0|\n",
      "|107|20.49|4.06|  Male|   Yes| Sat|Dinner|       2.0|\n",
      "|132|20.27|2.83|Female|    No|Thur| Lunch|       2.0|\n",
      "| 61|20.29|3.21|  Male|   Yes| Sat|Dinner|       2.0|\n",
      "|235|15.53| 3.0|  Male|   Yes| Sat|Dinner|       2.0|\n",
      "|105|20.92|4.08|Female|    No| Sat|Dinner|       2.0|\n",
      "|140|13.16|2.75|Female|    No|Thur| Lunch|       2.0|\n",
      "| 97|27.28| 4.0|  Male|   Yes| Fri|Dinner|       2.0|\n",
      "+---+-----+----+------+------+----+------+----------+\n",
      "only showing top 20 rows\n",
      "\n"
     ]
    }
   ],
   "source": [
    "y.repartition(\"total_bill\").show()"
   ]
  },
  {
   "cell_type": "markdown",
   "metadata": {},
   "source": [
    "### Replace elements"
   ]
  },
  {
   "cell_type": "code",
   "execution_count": 131,
   "metadata": {
    "collapsed": false
   },
   "outputs": [
    {
     "name": "stdout",
     "output_type": "stream",
     "text": [
      "+---+-----+----+------+------+----+------+----------+\n",
      "|ind|  day| sex|  size|smoker|time|   tip|total_bill|\n",
      "+---+-----+----+------+------+----+------+----------+\n",
      "|  5|24.59|3.61|Female|    Ng| Sun|Dinner|       4.0|\n",
      "|100|12.46| 1.5|  Male|    Ng| Fri|Dinner|       2.0|\n",
      "|121|11.69|2.31|  Male|    Ng|Thur| Lunch|       2.0|\n",
      "| 57|38.01| 3.0|  Male|   Yes| Sat|Dinner|       4.0|\n",
      "|134|12.26| 2.0|Female|    Ng|Thur| Lunch|       2.0|\n",
      "|165|17.51| 3.0|Female|   Yes| Sun|Dinner|       2.0|\n",
      "|108|25.21|4.29|  Male|   Yes| Sat|Dinner|       2.0|\n",
      "|208|38.73| 3.0|  Male|   Yes| Sat|Dinner|       4.0|\n",
      "| 76|10.51|1.25|  Male|    Ng| Sat|Dinner|       2.0|\n",
      "|127| 8.52|1.48|  Male|    Ng|Thur| Lunch|       2.0|\n",
      "|209|24.27|2.03|  Male|   Yes| Sat|Dinner|       2.0|\n",
      "|107|20.49|4.06|  Male|   Yes| Sat|Dinner|       2.0|\n",
      "|157|48.17| 5.0|  Male|    Ng| Sun|Dinner|       6.0|\n",
      "|132|20.27|2.83|Female|    Ng|Thur| Lunch|       2.0|\n",
      "| 36|24.06| 3.6|  Male|    Ng| Sat|Dinner|       3.0|\n",
      "| 61|20.29|3.21|  Male|   Yes| Sat|Dinner|       2.0|\n",
      "|211|30.06| 2.0|  Male|   Yes| Sat|Dinner|       3.0|\n",
      "|235|15.53| 3.0|  Male|   Yes| Sat|Dinner|       2.0|\n",
      "|105|20.92|4.08|Female|    Ng| Sat|Dinner|       2.0|\n",
      "|140|13.16|2.75|Female|    Ng|Thur| Lunch|       2.0|\n",
      "+---+-----+----+------+------+----+------+----------+\n",
      "only showing top 20 rows\n",
      "\n"
     ]
    }
   ],
   "source": [
    "y.replace(\"No\",\"Ng\").show()"
   ]
  },
  {
   "cell_type": "markdown",
   "metadata": {},
   "source": [
    "### 針對欄位取代元素"
   ]
  },
  {
   "cell_type": "code",
   "execution_count": 130,
   "metadata": {
    "collapsed": false,
    "scrolled": true
   },
   "outputs": [
    {
     "name": "stdout",
     "output_type": "stream",
     "text": [
      "+---+-----+----+------+------+----+------+----------+\n",
      "|ind|  day| sex|  size|smoker|time|   tip|total_bill|\n",
      "+---+-----+----+------+------+----+------+----------+\n",
      "|  5|24.59|3.61|Female|    No| Sun|Dinner|       4.0|\n",
      "|100|12.46| 1.5|  Male|    No| Fri|Dinner|       2.0|\n",
      "|121|11.69|2.31|  Male|    No|Thur| Lunch|       2.0|\n",
      "| 57|38.01|test|  Male|   Yes| Sat|Dinner|       4.0|\n",
      "|134|12.26| 2.0|Female|    No|Thur| Lunch|       2.0|\n",
      "|165|17.51|test|Female|   Yes| Sun|Dinner|       2.0|\n",
      "|108|25.21|4.29|  Male|   Yes| Sat|Dinner|       2.0|\n",
      "|208|38.73|test|  Male|   Yes| Sat|Dinner|       4.0|\n",
      "| 76|10.51|1.25|  Male|    No| Sat|Dinner|       2.0|\n",
      "|127| 8.52|1.48|  Male|    No|Thur| Lunch|       2.0|\n",
      "|209|24.27|2.03|  Male|   Yes| Sat|Dinner|       2.0|\n",
      "|107|20.49|4.06|  Male|   Yes| Sat|Dinner|       2.0|\n",
      "|157|48.17| 5.0|  Male|    No| Sun|Dinner|       6.0|\n",
      "|132|20.27|2.83|Female|    No|Thur| Lunch|       2.0|\n",
      "| 36|24.06| 3.6|  Male|    No| Sat|Dinner|       3.0|\n",
      "| 61|20.29|3.21|  Male|   Yes| Sat|Dinner|       2.0|\n",
      "|211|30.06| 2.0|  Male|   Yes| Sat|Dinner|       3.0|\n",
      "|235|15.53|test|  Male|   Yes| Sat|Dinner|       2.0|\n",
      "|105|20.92|4.08|Female|    No| Sat|Dinner|       2.0|\n",
      "|140|13.16|2.75|Female|    No|Thur| Lunch|       2.0|\n",
      "+---+-----+----+------+------+----+------+----------+\n",
      "only showing top 20 rows\n",
      "\n"
     ]
    }
   ],
   "source": [
    "y.withColumn('sex',y.sex).replace('3.0','test').show()"
   ]
  },
  {
   "cell_type": "markdown",
   "metadata": {},
   "source": [
    "### `rollup`跟groupby很像，不過會多一列總數的計算"
   ]
  },
  {
   "cell_type": "code",
   "execution_count": 140,
   "metadata": {
    "collapsed": false
   },
   "outputs": [
    {
     "name": "stdout",
     "output_type": "stream",
     "text": [
      "+------+----------+-----+\n",
      "|  size|total_bill|count|\n",
      "+------+----------+-----+\n",
      "|  Male|       2.0|   98|\n",
      "|  Male|       3.0|   24|\n",
      "|  Male|       4.0|   28|\n",
      "|Female|       4.0|    9|\n",
      "|  Male|       1.0|    1|\n",
      "|Female|       1.0|    3|\n",
      "|  Male|       5.0|    4|\n",
      "|Female|       5.0|    1|\n",
      "|Female|       6.0|    2|\n",
      "|Female|       2.0|   58|\n",
      "|  Male|       6.0|    2|\n",
      "|Female|       3.0|   14|\n",
      "+------+----------+-----+\n",
      "\n"
     ]
    }
   ],
   "source": [
    "y.groupBy(\"size\",\"total_bill\").count().show()"
   ]
  },
  {
   "cell_type": "code",
   "execution_count": 141,
   "metadata": {
    "collapsed": false
   },
   "outputs": [
    {
     "name": "stdout",
     "output_type": "stream",
     "text": [
      "+------+----------+-----+\n",
      "|  size|total_bill|count|\n",
      "+------+----------+-----+\n",
      "|  Male|      null|  157|\n",
      "|  Male|       4.0|   28|\n",
      "|  Male|       3.0|   24|\n",
      "|  null|      null|  244|\n",
      "|  Male|       5.0|    4|\n",
      "|  Male|       2.0|   98|\n",
      "|Female|       6.0|    2|\n",
      "|Female|       3.0|   14|\n",
      "|Female|       4.0|    9|\n",
      "|Female|       2.0|   58|\n",
      "|  Male|       1.0|    1|\n",
      "|Female|       1.0|    3|\n",
      "|  Male|       6.0|    2|\n",
      "|Female|       5.0|    1|\n",
      "|Female|      null|   87|\n",
      "+------+----------+-----+\n",
      "\n"
     ]
    }
   ],
   "source": [
    "y.rollup(\"size\",\"total_bill\").count().show()"
   ]
  },
  {
   "cell_type": "markdown",
   "metadata": {},
   "source": [
    "### Select"
   ]
  },
  {
   "cell_type": "code",
   "execution_count": 144,
   "metadata": {
    "collapsed": false,
    "scrolled": true
   },
   "outputs": [
    {
     "name": "stdout",
     "output_type": "stream",
     "text": [
      "+----+\n",
      "| sex|\n",
      "+----+\n",
      "|3.61|\n",
      "| 1.5|\n",
      "|2.31|\n",
      "| 3.0|\n",
      "| 2.0|\n",
      "| 3.0|\n",
      "|4.29|\n",
      "| 3.0|\n",
      "|1.25|\n",
      "|1.48|\n",
      "|2.03|\n",
      "|4.06|\n",
      "| 5.0|\n",
      "|2.83|\n",
      "| 3.6|\n",
      "|3.21|\n",
      "| 2.0|\n",
      "| 3.0|\n",
      "|4.08|\n",
      "|2.75|\n",
      "+----+\n",
      "only showing top 20 rows\n",
      "\n"
     ]
    }
   ],
   "source": [
    "y.select('sex').show()"
   ]
  },
  {
   "cell_type": "code",
   "execution_count": 147,
   "metadata": {
    "collapsed": false
   },
   "outputs": [
    {
     "name": "stdout",
     "output_type": "stream",
     "text": [
      "+------------------+\n",
      "|(total_bill * 100)|\n",
      "+------------------+\n",
      "|             400.0|\n",
      "|             200.0|\n",
      "|             200.0|\n",
      "|             400.0|\n",
      "|             200.0|\n",
      "|             200.0|\n",
      "|             200.0|\n",
      "|             400.0|\n",
      "|             200.0|\n",
      "|             200.0|\n",
      "|             200.0|\n",
      "|             200.0|\n",
      "|             600.0|\n",
      "|             200.0|\n",
      "|             300.0|\n",
      "|             200.0|\n",
      "|             300.0|\n",
      "|             200.0|\n",
      "|             200.0|\n",
      "|             200.0|\n",
      "+------------------+\n",
      "only showing top 20 rows\n",
      "\n"
     ]
    }
   ],
   "source": [
    "y.selectExpr('total_bill*100').show()"
   ]
  },
  {
   "cell_type": "markdown",
   "metadata": {},
   "source": [
    "### 排序（sort和orderBy）"
   ]
  },
  {
   "cell_type": "code",
   "execution_count": 186,
   "metadata": {
    "collapsed": false,
    "scrolled": false
   },
   "outputs": [
    {
     "name": "stdout",
     "output_type": "stream",
     "text": [
      "+---+-----+----+------+------+----+------+----------+\n",
      "|ind|  day| sex|  size|smoker|time|   tip|total_bill|\n",
      "+---+-----+----+------+------+----+------+----------+\n",
      "|142| 34.3| 6.7|  Male|    No|Thur| Lunch|       6.0|\n",
      "|126| 29.8| 4.2|Female|    No|Thur| Lunch|       6.0|\n",
      "|157|48.17| 5.0|  Male|    No| Sun|Dinner|       6.0|\n",
      "|144|27.05| 5.0|Female|    No|Thur| Lunch|       6.0|\n",
      "|217|28.15| 3.0|  Male|   Yes| Sat|Dinner|       5.0|\n",
      "|188|30.46| 2.0|  Male|   Yes| Sun|Dinner|       5.0|\n",
      "|186|20.69| 5.0|  Male|    No| Sun|Dinner|       5.0|\n",
      "|143|41.19| 5.0|  Male|    No|Thur| Lunch|       5.0|\n",
      "|156|29.85|5.14|Female|    No| Sun|Dinner|       5.0|\n",
      "|205|20.53| 4.0|  Male|   Yes|Thur| Lunch|       4.0|\n",
      "| 24|39.42|7.58|  Male|    No| Sat|Dinner|       4.0|\n",
      "|220|30.14|3.09|Female|   Yes| Sat|Dinner|       4.0|\n",
      "| 53|34.81| 5.2|Female|    No| Sun|Dinner|       4.0|\n",
      "| 96|40.17|4.73|  Male|   Yes| Fri|Dinner|       4.0|\n",
      "|161| 21.5| 3.5|  Male|    No| Sun|Dinner|       4.0|\n",
      "|208|38.73| 3.0|  Male|   Yes| Sat|Dinner|       4.0|\n",
      "|168|31.71| 4.5|  Male|    No| Sun|Dinner|       4.0|\n",
      "| 57|38.01| 3.0|  Male|   Yes| Sat|Dinner|       4.0|\n",
      "|160|16.49| 2.0|  Male|    No| Sun|Dinner|       4.0|\n",
      "|181|34.65|3.68|  Male|   Yes| Sun|Dinner|       4.0|\n",
      "+---+-----+----+------+------+----+------+----------+\n",
      "only showing top 20 rows\n",
      "\n"
     ]
    }
   ],
   "source": [
    "y.sort('total_bill',ascending=False).show()"
   ]
  }
 ],
 "metadata": {
  "kernelspec": {
   "display_name": "Python 2",
   "language": "python",
   "name": "python2"
  },
  "language_info": {
   "codemirror_mode": {
    "name": "ipython",
    "version": 2
   },
   "file_extension": ".py",
   "mimetype": "text/x-python",
   "name": "python",
   "nbconvert_exporter": "python",
   "pygments_lexer": "ipython2",
   "version": "2.7.10"
  }
 },
 "nbformat": 4,
 "nbformat_minor": 0
}
