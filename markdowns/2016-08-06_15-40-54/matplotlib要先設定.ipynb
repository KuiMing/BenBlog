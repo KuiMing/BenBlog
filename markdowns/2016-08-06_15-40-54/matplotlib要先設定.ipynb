{
 "cells": [
  {
   "cell_type": "markdown",
   "metadata": {},
   "source": [
    "### 一開始使用`matplotlib`一定會遇到無法顯示圖形的情況，要執行以下的步驟，才可以化解這種尷尬：\n",
    "\n",
    "#### 1. 用terminal，在Working directory執行`cd ~/.matplotlib`。\n",
    "#### 2. 執行`nano matplotlibrc`\n",
    "#### 3. 加上這一行`backend: TkAgg`"
   ]
  },
  {
   "cell_type": "markdown",
   "metadata": {},
   "source": [
    "![](img/matplotlibrc.png)"
   ]
  },
  {
   "cell_type": "markdown",
   "metadata": {},
   "source": [
    "#### 4. 畫圖前記得使用：`%matplotlib inline`\n",
    "# 然後就可以開心畫圖了！"
   ]
  }
 ],
 "metadata": {
  "kernelspec": {
   "display_name": "Python 2",
   "language": "python",
   "name": "python2"
  },
  "language_info": {
   "codemirror_mode": {
    "name": "ipython",
    "version": 2
   },
   "file_extension": ".py",
   "mimetype": "text/x-python",
   "name": "python",
   "nbconvert_exporter": "python",
   "pygments_lexer": "ipython2",
   "version": "2.7.10"
  }
 },
 "nbformat": 4,
 "nbformat_minor": 0
}
